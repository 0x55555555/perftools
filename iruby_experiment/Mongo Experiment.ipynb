{
 "cells": [
  {
   "cell_type": "code",
   "execution_count": 1,
   "metadata": {
    "collapsed": false
   },
   "outputs": [
    {
     "data": {
      "text/plain": [
       "true"
      ]
     },
     "execution_count": 1,
     "metadata": {},
     "output_type": "execute_result"
    }
   ],
   "source": [
    "require 'mongo'"
   ]
  },
  {
   "cell_type": "code",
   "execution_count": 2,
   "metadata": {
    "collapsed": false
   },
   "outputs": [
    {
     "ename": "NameError",
     "evalue": "uninitialized constant MongoClient",
     "output_type": "error",
     "traceback": [
      "\u001b[31mNameError\u001b[0m: uninitialized constant MongoClient",
      "\u001b[37m(pry):2:in `<main>'\u001b[0m",
      "\u001b[37m/Users/jorj/.rvm/gems/ruby-2.2.0/gems/pry-0.10.1/lib/pry/pry_instance.rb:355:in `eval'\u001b[0m",
      "\u001b[37m/Users/jorj/.rvm/gems/ruby-2.2.0/gems/pry-0.10.1/lib/pry/pry_instance.rb:355:in `evaluate_ruby'\u001b[0m",
      "\u001b[37m/Users/jorj/.rvm/gems/ruby-2.2.0/gems/pry-0.10.1/lib/pry/pry_instance.rb:323:in `handle_line'\u001b[0m",
      "\u001b[37m/Users/jorj/.rvm/gems/ruby-2.2.0/gems/pry-0.10.1/lib/pry/pry_instance.rb:243:in `block (2 levels) in eval'\u001b[0m",
      "\u001b[37m/Users/jorj/.rvm/gems/ruby-2.2.0/gems/pry-0.10.1/lib/pry/pry_instance.rb:242:in `catch'\u001b[0m",
      "\u001b[37m/Users/jorj/.rvm/gems/ruby-2.2.0/gems/pry-0.10.1/lib/pry/pry_instance.rb:242:in `block in eval'\u001b[0m",
      "\u001b[37m/Users/jorj/.rvm/gems/ruby-2.2.0/gems/pry-0.10.1/lib/pry/pry_instance.rb:241:in `catch'\u001b[0m",
      "\u001b[37m/Users/jorj/.rvm/gems/ruby-2.2.0/gems/pry-0.10.1/lib/pry/pry_instance.rb:241:in `eval'\u001b[0m",
      "\u001b[37m/Users/jorj/.rvm/gems/ruby-2.2.0/gems/iruby-0.2.7/lib/iruby/backend.rb:65:in `eval'\u001b[0m",
      "\u001b[37m/Users/jorj/.rvm/gems/ruby-2.2.0/gems/iruby-0.2.7/lib/iruby/backend.rb:12:in `eval'\u001b[0m",
      "\u001b[37m/Users/jorj/.rvm/gems/ruby-2.2.0/gems/iruby-0.2.7/lib/iruby/kernel.rb:87:in `execute_request'\u001b[0m",
      "\u001b[37m/Users/jorj/.rvm/gems/ruby-2.2.0/gems/iruby-0.2.7/lib/iruby/kernel.rb:47:in `dispatch'\u001b[0m",
      "\u001b[37m/Users/jorj/.rvm/gems/ruby-2.2.0/gems/iruby-0.2.7/lib/iruby/kernel.rb:37:in `run'\u001b[0m",
      "\u001b[37m/Users/jorj/.rvm/gems/ruby-2.2.0/gems/iruby-0.2.7/lib/iruby/command.rb:70:in `run_kernel'\u001b[0m",
      "\u001b[37m/Users/jorj/.rvm/gems/ruby-2.2.0/gems/iruby-0.2.7/lib/iruby/command.rb:34:in `run'\u001b[0m",
      "\u001b[37m/Users/jorj/.rvm/gems/ruby-2.2.0/gems/iruby-0.2.7/bin/iruby:5:in `<top (required)>'\u001b[0m",
      "\u001b[37m/Users/jorj/.rvm/gems/rbx-2.2.10/bin/iruby:23:in `load'\u001b[0m",
      "\u001b[37m/Users/jorj/.rvm/gems/rbx-2.2.10/bin/iruby:23:in `<main>'\u001b[0m",
      "\u001b[37m/Users/jorj/.rvm/gems/ruby-2.2.0/bin/ruby_executable_hooks:15:in `eval'\u001b[0m",
      "\u001b[37m/Users/jorj/.rvm/gems/ruby-2.2.0/bin/ruby_executable_hooks:15:in `<main>'\u001b[0m"
     ]
    }
   ],
   "source": [
    "client = Mongo::MongoClient('localhost', MongMongoClient::DEFAULT_PORT)"
   ]
  },
  {
   "cell_type": "code",
   "execution_count": null,
   "metadata": {
    "collapsed": true
   },
   "outputs": [],
   "source": []
  }
 ],
 "metadata": {
  "kernelspec": {
   "display_name": "Ruby 2.1.0",
   "language": "ruby",
   "name": "ruby"
  },
  "language_info": {
   "file_extension": "rb",
   "mimetype": "application/x-ruby",
   "name": "ruby",
   "version": "2.2.0"
  }
 },
 "nbformat": 4,
 "nbformat_minor": 0
}
